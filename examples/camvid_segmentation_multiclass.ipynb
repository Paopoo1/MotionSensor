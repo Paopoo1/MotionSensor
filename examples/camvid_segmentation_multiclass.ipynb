{
  "cells": [
    {
      "cell_type": "markdown",
      "metadata": {
        "id": "gHhWXx3HwsHs"
      },
      "source": [
        "[![Open In Colab](https://colab.research.google.com/assets/colab-badge.svg)](https://colab.research.google.com/github/qubvel/segmentation_models.pytorch/blob/main/examples/camvid_segmentation_multiclass.ipynb)"
      ]
    },
    {
      "cell_type": "markdown",
      "metadata": {
        "id": "byt-VX7TwsHt"
      },
      "source": [
        "# Install package"
      ]
    },
    {
      "cell_type": "code",
      "execution_count": 6,
      "metadata": {
        "_cell_guid": "b1076dfc-b9ad-4769-8c92-a6c4dae69d19",
        "_uuid": "8f2839f25d086af736a60e9eeb907d3b93b6e0e5",
        "execution": {
          "iopub.execute_input": "2024-08-23T11:29:43.835761Z",
          "iopub.status.busy": "2024-08-23T11:29:43.835234Z",
          "iopub.status.idle": "2024-08-23T11:29:58.330049Z",
          "shell.execute_reply": "2024-08-23T11:29:58.328593Z",
          "shell.execute_reply.started": "2024-08-23T11:29:43.835708Z"
        },
        "trusted": true,
        "id": "em26uxGiwsHt"
      },
      "outputs": [],
      "source": [
        "%%capture\n",
        "%pip install --upgrade segmentation-models-pytorch lightning albumentations"
      ]
    },
    {
      "cell_type": "markdown",
      "metadata": {
        "id": "JmQLckELwsHu"
      },
      "source": [
        "# Loading data\n",
        "For this example we will use CamVid dataset. It is a set of:\n",
        " - train images + segmentation masks\n",
        " - validation images + segmentation masks\n",
        " - test images + segmentation masks\n",
        "\n",
        "All images have 320 pixels height and 480 pixels width. For more inforamtion about dataset visit http://mi.eng.cam.ac.uk/research/projects/VideoRec/CamVid/."
      ]
    },
    {
      "cell_type": "code",
      "execution_count": 7,
      "metadata": {
        "execution": {
          "iopub.execute_input": "2024-08-23T11:29:58.332851Z",
          "iopub.status.busy": "2024-08-23T11:29:58.332004Z",
          "iopub.status.idle": "2024-08-23T11:29:59.374217Z",
          "shell.execute_reply": "2024-08-23T11:29:59.372856Z",
          "shell.execute_reply.started": "2024-08-23T11:29:58.332781Z"
        },
        "trusted": true,
        "id": "O4YcKVCAwsHu"
      },
      "outputs": [],
      "source": [
        "%%capture\n",
        "# Download Data\n",
        "!git clone https://github.com/alexgkendall/SegNet-Tutorial ./data"
      ]
    },
    {
      "cell_type": "code",
      "execution_count": 8,
      "metadata": {
        "execution": {
          "iopub.execute_input": "2024-08-23T11:29:59.376434Z",
          "iopub.status.busy": "2024-08-23T11:29:59.376015Z",
          "iopub.status.idle": "2024-08-23T11:30:06.026067Z",
          "shell.execute_reply": "2024-08-23T11:30:06.024970Z",
          "shell.execute_reply.started": "2024-08-23T11:29:59.376395Z"
        },
        "trusted": true,
        "id": "jrd---E1wsHu"
      },
      "outputs": [],
      "source": [
        "import os\n",
        "import matplotlib.pyplot as plt\n",
        "from torch.utils.data import DataLoader\n",
        "from torch.utils.data import Dataset as BaseDataset"
      ]
    },
    {
      "cell_type": "code",
      "execution_count": 20,
      "metadata": {
        "execution": {
          "iopub.execute_input": "2024-08-23T11:30:06.030406Z",
          "iopub.status.busy": "2024-08-23T11:30:06.029938Z",
          "iopub.status.idle": "2024-08-23T11:30:06.037431Z",
          "shell.execute_reply": "2024-08-23T11:30:06.036521Z",
          "shell.execute_reply.started": "2024-08-23T11:30:06.030368Z"
        },
        "trusted": true,
        "colab": {
          "base_uri": "https://localhost:8080/"
        },
        "id": "dKEklyjYwsHu",
        "outputId": "8cced9e8-0b8c-455b-ab82-b4df77f9f34c"
      },
      "outputs": [
        {
          "output_type": "stream",
          "name": "stdout",
          "text": [
            "Drive already mounted at /content/drive; to attempt to forcibly remount, call drive.mount(\"/content/drive\", force_remount=True).\n"
          ]
        }
      ],
      "source": [
        "from google.colab import drive\n",
        "drive.mount('/content/drive')\n",
        "\n",
        "DATA_DIR = \"/content/drive/MyDrive/dataset\"\n",
        "\n",
        "x_train_dir = os.path.join(DATA_DIR, \"x_train\")\n",
        "y_train_dir = os.path.join(DATA_DIR, \"y_train\")\n",
        "x_val_dir = os.path.join(DATA_DIR, \"x_val\")\n",
        "y_val_dir = os.path.join(DATA_DIR, \"y_val\")\n",
        "x_test_dir = os.path.join(DATA_DIR, \"x_test\")\n",
        "y_test_dir = os.path.join(DATA_DIR, \"y_test\")\n",
        "\n",
        "\n",
        "# DATA_DIR = \"./data/CamVid/\"\n",
        "\n",
        "# x_train_dir = os.path.join(DATA_DIR, \"train\")\n",
        "# y_train_dir = os.path.join(DATA_DIR, \"trainannot\")\n",
        "\n",
        "# x_valid_dir = os.path.join(DATA_DIR, \"val\")\n",
        "# y_valid_dir = os.path.join(DATA_DIR, \"valannot\")\n",
        "\n",
        "# x_test_dir = os.path.join(DATA_DIR, \"test\")\n",
        "# y_test_dir = os.path.join(DATA_DIR, \"testannot\")"
      ]
    },
    {
      "cell_type": "markdown",
      "metadata": {
        "id": "lWDYg6ATwsHu"
      },
      "source": [
        "# Dataloader\n",
        "Writing helper class for data extraction, tranformation and preprocessing\n",
        "https://pytorch.org/docs/stable/data"
      ]
    },
    {
      "cell_type": "code",
      "execution_count": 21,
      "metadata": {
        "execution": {
          "iopub.execute_input": "2024-08-23T11:30:06.039244Z",
          "iopub.status.busy": "2024-08-23T11:30:06.038840Z",
          "iopub.status.idle": "2024-08-23T11:30:06.054834Z",
          "shell.execute_reply": "2024-08-23T11:30:06.053760Z",
          "shell.execute_reply.started": "2024-08-23T11:30:06.039198Z"
        },
        "trusted": true,
        "id": "yFDg6UdBwsHu"
      },
      "outputs": [],
      "source": [
        "import os\n",
        "import cv2\n",
        "import numpy as np\n",
        "import albumentations as A\n",
        "from torch.utils.data import Dataset\n",
        "\n",
        "\n",
        "# RGB 色マップ → クラスID\n",
        "COLOR_MAP = {\n",
        "    (0, 0, 0): 0,              # background\n",
        "    (198, 67, 151): 1,         # liver\n",
        "    (38, 43, 104): 2,          # portal vein\n",
        "    (255, 128, 0): 3           # vascular\n",
        "}\n",
        "\n",
        "CLASSES = ['background', 'liver', 'portal_vein', 'vascular']\n",
        "\n",
        "class MedicalDataset(Dataset):\n",
        "    def __init__(self, images_dir, masks_dir, augmentation=None):\n",
        "        self.image_paths = sorted([os.path.join(images_dir, x) for x in os.listdir(images_dir)])\n",
        "        self.mask_paths = sorted([os.path.join(masks_dir, x) for x in os.listdir(masks_dir)])\n",
        "        self.augmentation = augmentation\n",
        "\n",
        "    def __len__(self):\n",
        "        return len(self.image_paths)\n",
        "\n",
        "    def __getitem__(self, i):\n",
        "        image = cv2.imread(self.image_paths[i])\n",
        "        image = cv2.cvtColor(image, cv2.COLOR_BGR2RGB)\n",
        "\n",
        "        mask_rgb = cv2.imread(self.mask_paths[i])\n",
        "        mask_rgb = cv2.cvtColor(mask_rgb, cv2.COLOR_BGR2RGB)\n",
        "\n",
        "        # RGBマスクをクラスIDマスクに変換\n",
        "        mask = np.zeros((mask_rgb.shape[0], mask_rgb.shape[1]), dtype=np.uint8)\n",
        "        for rgb, class_id in COLOR_MAP.items():\n",
        "            mask[np.all(mask_rgb == rgb, axis=-1)] = class_id\n",
        "\n",
        "        if self.augmentation:\n",
        "            augmented = self.augmentation(image=image, mask=mask)\n",
        "            image, mask = augmented['image'], augmented['mask']\n",
        "\n",
        "        image = image.transpose(2, 0, 1).astype('float32') / 255.0\n",
        "        return image, mask\n",
        "\n",
        "\n",
        "\n",
        "\n",
        "# import os\n",
        "# import cv2\n",
        "# import numpy as np\n",
        "# import albumentations as A\n",
        "\n",
        "\n",
        "# class Dataset(BaseDataset):\n",
        "#     CLASSES = [\n",
        "#         \"sky\",\n",
        "#         \"building\",\n",
        "#         \"pole\",\n",
        "#         \"road\",\n",
        "#         \"pavement\",\n",
        "#         \"tree\",\n",
        "#         \"signsymbol\",\n",
        "#         \"fence\",\n",
        "#         \"car\",\n",
        "#         \"pedestrian\",\n",
        "#         \"bicyclist\",\n",
        "#         \"unlabelled\",\n",
        "#     ]\n",
        "\n",
        "#     def __init__(self, images_dir, masks_dir, classes=None, augmentation=None):\n",
        "#         self.ids = os.listdir(images_dir)\n",
        "#         self.images_fps = [os.path.join(images_dir, image_id) for image_id in self.ids]\n",
        "#         self.masks_fps = [os.path.join(masks_dir, image_id) for image_id in self.ids]\n",
        "\n",
        "#         # Always map background ('unlabelled') to 0\n",
        "#         self.background_class = self.CLASSES.index(\"unlabelled\")\n",
        "\n",
        "#         # If specific classes are provided, map them dynamically\n",
        "#         if classes:\n",
        "#             self.class_values = [self.CLASSES.index(cls.lower()) for cls in classes]\n",
        "#         else:\n",
        "#             self.class_values = list(range(len(self.CLASSES)))  # Default to all classes\n",
        "\n",
        "#         # Create a remapping dictionary: class value in dataset -> new index (0, 1, 2, ...)\n",
        "#         # Background will always be 0, other classes will be remapped starting from 1.\n",
        "#         self.class_map = {self.background_class: 0}\n",
        "#         self.class_map.update(\n",
        "#             {\n",
        "#                 v: i + 1\n",
        "#                 for i, v in enumerate(self.class_values)\n",
        "#                 if v != self.background_class\n",
        "#             }\n",
        "#         )\n",
        "\n",
        "#         self.augmentation = augmentation\n",
        "\n",
        "#     def __getitem__(self, i):\n",
        "#         # Read the image\n",
        "#         image = cv2.imread(self.images_fps[i])\n",
        "#         image = cv2.cvtColor(image, cv2.COLOR_BGR2RGB)  # Convert BGR to RGB\n",
        "\n",
        "#         # Read the mask in grayscale mode\n",
        "#         mask = cv2.imread(self.masks_fps[i], 0)\n",
        "\n",
        "#         # Create a blank mask to remap the class values\n",
        "#         mask_remap = np.zeros_like(mask)\n",
        "\n",
        "#         # Remap the mask according to the dynamically created class map\n",
        "#         for class_value, new_value in self.class_map.items():\n",
        "#             mask_remap[mask == class_value] = new_value\n",
        "\n",
        "#         if self.augmentation:\n",
        "#             sample = self.augmentation(image=image, mask=mask_remap)\n",
        "#             image, mask_remap = sample[\"image\"], sample[\"mask\"]\n",
        "#         image = image.transpose(2, 0, 1)\n",
        "#         return image, mask_remap\n",
        "\n",
        "#     def __len__(self):\n",
        "#         return len(self.ids)"
      ]
    },
    {
      "cell_type": "code",
      "execution_count": 24,
      "metadata": {
        "execution": {
          "iopub.execute_input": "2024-08-23T11:30:06.057523Z",
          "iopub.status.busy": "2024-08-23T11:30:06.056578Z",
          "iopub.status.idle": "2024-08-23T11:30:06.069829Z",
          "shell.execute_reply": "2024-08-23T11:30:06.068550Z",
          "shell.execute_reply.started": "2024-08-23T11:30:06.057475Z"
        },
        "trusted": true,
        "colab": {
          "base_uri": "https://localhost:8080/",
          "height": 243
        },
        "id": "IhgdqFblwsHu",
        "outputId": "b5cf0877-89ce-4e2c-ac6c-f879143e534c"
      },
      "outputs": [
        {
          "output_type": "error",
          "ename": "ValueError",
          "evalue": "cannot reshape array of size 1 into shape (1,1,3)",
          "traceback": [
            "\u001b[0;31m---------------------------------------------------------------------------\u001b[0m",
            "\u001b[0;31mValueError\u001b[0m                                Traceback (most recent call last)",
            "\u001b[0;32m<ipython-input-24-2269db79aa1f>\u001b[0m in \u001b[0;36m<cell line: 0>\u001b[0;34m()\u001b[0m\n\u001b[1;32m     17\u001b[0m     \u001b[0mmask\u001b[0m \u001b[0;34m=\u001b[0m \u001b[0mnp\u001b[0m\u001b[0;34m.\u001b[0m\u001b[0mzeros\u001b[0m\u001b[0;34m(\u001b[0m\u001b[0;34m(\u001b[0m\u001b[0mmask_rgb\u001b[0m\u001b[0;34m.\u001b[0m\u001b[0mshape\u001b[0m\u001b[0;34m[\u001b[0m\u001b[0;36m0\u001b[0m\u001b[0;34m]\u001b[0m\u001b[0;34m,\u001b[0m \u001b[0mmask_rgb\u001b[0m\u001b[0;34m.\u001b[0m\u001b[0mshape\u001b[0m\u001b[0;34m[\u001b[0m\u001b[0;36m1\u001b[0m\u001b[0;34m]\u001b[0m\u001b[0;34m)\u001b[0m\u001b[0;34m,\u001b[0m \u001b[0mdtype\u001b[0m\u001b[0;34m=\u001b[0m\u001b[0mnp\u001b[0m\u001b[0;34m.\u001b[0m\u001b[0muint8\u001b[0m\u001b[0;34m)\u001b[0m\u001b[0;34m\u001b[0m\u001b[0;34m\u001b[0m\u001b[0m\n\u001b[1;32m     18\u001b[0m \u001b[0;32mfor\u001b[0m \u001b[0mrgb\u001b[0m\u001b[0;34m,\u001b[0m \u001b[0mclass_id\u001b[0m \u001b[0;32min\u001b[0m \u001b[0mCOLOR_MAP\u001b[0m\u001b[0;34m.\u001b[0m\u001b[0mitems\u001b[0m\u001b[0;34m(\u001b[0m\u001b[0;34m)\u001b[0m\u001b[0;34m:\u001b[0m\u001b[0;34m\u001b[0m\u001b[0;34m\u001b[0m\u001b[0m\n\u001b[0;32m---> 19\u001b[0;31m     \u001b[0mrgb_array\u001b[0m \u001b[0;34m=\u001b[0m \u001b[0mnp\u001b[0m\u001b[0;34m.\u001b[0m\u001b[0marray\u001b[0m\u001b[0;34m(\u001b[0m\u001b[0mrgb\u001b[0m\u001b[0;34m)\u001b[0m\u001b[0;34m.\u001b[0m\u001b[0mreshape\u001b[0m\u001b[0;34m(\u001b[0m\u001b[0;36m1\u001b[0m\u001b[0;34m,\u001b[0m \u001b[0;36m1\u001b[0m\u001b[0;34m,\u001b[0m \u001b[0;36m3\u001b[0m\u001b[0;34m)\u001b[0m  \u001b[0;31m# ← ちゃんと形を揃えるのがポイント！\u001b[0m\u001b[0;34m\u001b[0m\u001b[0;34m\u001b[0m\u001b[0m\n\u001b[0m\u001b[1;32m     20\u001b[0m     \u001b[0mmatches\u001b[0m \u001b[0;34m=\u001b[0m \u001b[0mnp\u001b[0m\u001b[0;34m.\u001b[0m\u001b[0mall\u001b[0m\u001b[0;34m(\u001b[0m\u001b[0mmask_rgb\u001b[0m \u001b[0;34m==\u001b[0m \u001b[0mrgb_array\u001b[0m\u001b[0;34m,\u001b[0m \u001b[0maxis\u001b[0m\u001b[0;34m=\u001b[0m\u001b[0;34m-\u001b[0m\u001b[0;36m1\u001b[0m\u001b[0;34m)\u001b[0m\u001b[0;34m\u001b[0m\u001b[0;34m\u001b[0m\u001b[0m\n\u001b[1;32m     21\u001b[0m     \u001b[0mmask\u001b[0m\u001b[0;34m[\u001b[0m\u001b[0mmatches\u001b[0m\u001b[0;34m]\u001b[0m \u001b[0;34m=\u001b[0m \u001b[0mclass_id\u001b[0m\u001b[0;34m\u001b[0m\u001b[0;34m\u001b[0m\u001b[0m\n",
            "\u001b[0;31mValueError\u001b[0m: cannot reshape array of size 1 into shape (1,1,3)"
          ]
        }
      ],
      "source": [
        "import matplotlib.pyplot as plt\n",
        "import numpy as np\n",
        "\n",
        "# クラスID → 色（RGB）の対応（背景、肝臓、門脈、血管）\n",
        "COLOR_MAP = {\n",
        "    0: (0, 0, 0),               # background\n",
        "    1: (198, 67, 151),          # liver\n",
        "    2: (38, 43, 104),           # portal vein\n",
        "    3: (255, 128, 0),           # vascular\n",
        "}\n",
        "\n",
        "def decode_mask(mask):\n",
        "    \"\"\"\n",
        "    クラスIDマスク (HxW) → RGBマスク (HxWx3) に変換\n",
        "    \"\"\"\n",
        "    h, w = mask.shape\n",
        "    color_mask = np.zeros((h, w, 3), dtype=np.uint8)\n",
        "    for class_id, color in COLOR_MAP.items():\n",
        "        color_mask[mask == class_id] = color\n",
        "    return color_mask\n",
        "\n",
        "def visualize(**images):\n",
        "    \"\"\"\n",
        "    画像とマスクを横に並べて表示\n",
        "    引数に image（CHW）、mask（HxW）、prediction（HxW）などを渡す\n",
        "    \"\"\"\n",
        "    n = len(images)\n",
        "    plt.figure(figsize=(6 * n, 5))\n",
        "    for i, (name, image) in enumerate(images.items()):\n",
        "        plt.subplot(1, n, i + 1)\n",
        "        plt.xticks([])\n",
        "        plt.yticks([])\n",
        "        plt.title(name.replace('_', ' ').title())\n",
        "\n",
        "        # RGB画像（CHW形式）の場合\n",
        "        if image.ndim == 3 and image.shape[0] == 3:\n",
        "            plt.imshow(np.transpose(image, (1, 2, 0)))  # CHW → HWC\n",
        "\n",
        "        # クラスIDマスク（HxW）の場合\n",
        "        elif image.ndim == 2:\n",
        "            plt.imshow(decode_mask(image))\n",
        "\n",
        "        else:\n",
        "            raise ValueError(f\"Unsupported image shape: {image.shape}\")\n",
        "    plt.tight_layout()\n",
        "    plt.show()\n",
        "\n",
        "\n",
        "\n",
        "# def visualize(**images):\n",
        "#     \"\"\"Plot images in one row.\"\"\"\n",
        "#     n = len(images)\n",
        "#     plt.figure(figsize=(16, 5))\n",
        "#     for i, (name, image) in enumerate(images.items()):\n",
        "#         plt.subplot(1, n, i + 1)\n",
        "#         plt.xticks([])\n",
        "#         plt.yticks([])\n",
        "#         plt.title(\" \".join(name.split(\"_\")).title())\n",
        "\n",
        "#         # If it's an image, plot it as RGB\n",
        "#         if name == \"image\":\n",
        "#             # Convert CHW to HWC for plotting\n",
        "#             image = image.transpose(1, 2, 0)\n",
        "#             plt.imshow(image)\n",
        "#         else:\n",
        "#             plt.imshow(image, cmap=\"tab20\")\n",
        "#     plt.show()"
      ]
    },
    {
      "cell_type": "code",
      "execution_count": 23,
      "metadata": {
        "execution": {
          "iopub.execute_input": "2024-08-23T11:30:06.071933Z",
          "iopub.status.busy": "2024-08-23T11:30:06.071406Z",
          "iopub.status.idle": "2024-08-23T11:30:06.480787Z",
          "shell.execute_reply": "2024-08-23T11:30:06.479553Z",
          "shell.execute_reply.started": "2024-08-23T11:30:06.071890Z"
        },
        "trusted": true,
        "colab": {
          "base_uri": "https://localhost:8080/",
          "height": 392
        },
        "id": "B-IzjuBswsHu",
        "outputId": "a63edc1d-76fb-44dd-992d-07a88139d144"
      },
      "outputs": [
        {
          "output_type": "error",
          "ename": "ValueError",
          "evalue": "NumPy boolean array indexing assignment cannot assign 3 input values to the 650782 output values where the mask is true",
          "traceback": [
            "\u001b[0;31m---------------------------------------------------------------------------\u001b[0m",
            "\u001b[0;31mValueError\u001b[0m                                Traceback (most recent call last)",
            "\u001b[0;32m<ipython-input-23-9e3df7b486a1>\u001b[0m in \u001b[0;36m<cell line: 0>\u001b[0;34m()\u001b[0m\n\u001b[1;32m      3\u001b[0m \u001b[0;34m\u001b[0m\u001b[0m\n\u001b[1;32m      4\u001b[0m \u001b[0;31m# 最初のサンプルを取得\u001b[0m\u001b[0;34m\u001b[0m\u001b[0;34m\u001b[0m\u001b[0m\n\u001b[0;32m----> 5\u001b[0;31m \u001b[0mimage\u001b[0m\u001b[0;34m,\u001b[0m \u001b[0mmask\u001b[0m \u001b[0;34m=\u001b[0m \u001b[0mdataset\u001b[0m\u001b[0;34m[\u001b[0m\u001b[0;36m0\u001b[0m\u001b[0;34m]\u001b[0m\u001b[0;34m\u001b[0m\u001b[0;34m\u001b[0m\u001b[0m\n\u001b[0m\u001b[1;32m      6\u001b[0m \u001b[0;34m\u001b[0m\u001b[0m\n\u001b[1;32m      7\u001b[0m \u001b[0;31m# 情報表示\u001b[0m\u001b[0;34m\u001b[0m\u001b[0;34m\u001b[0m\u001b[0m\n",
            "\u001b[0;32m<ipython-input-21-14ae0c00f100>\u001b[0m in \u001b[0;36m__getitem__\u001b[0;34m(self, i)\u001b[0m\n\u001b[1;32m     35\u001b[0m         \u001b[0mmask\u001b[0m \u001b[0;34m=\u001b[0m \u001b[0mnp\u001b[0m\u001b[0;34m.\u001b[0m\u001b[0mzeros\u001b[0m\u001b[0;34m(\u001b[0m\u001b[0;34m(\u001b[0m\u001b[0mmask_rgb\u001b[0m\u001b[0;34m.\u001b[0m\u001b[0mshape\u001b[0m\u001b[0;34m[\u001b[0m\u001b[0;36m0\u001b[0m\u001b[0;34m]\u001b[0m\u001b[0;34m,\u001b[0m \u001b[0mmask_rgb\u001b[0m\u001b[0;34m.\u001b[0m\u001b[0mshape\u001b[0m\u001b[0;34m[\u001b[0m\u001b[0;36m1\u001b[0m\u001b[0;34m]\u001b[0m\u001b[0;34m)\u001b[0m\u001b[0;34m,\u001b[0m \u001b[0mdtype\u001b[0m\u001b[0;34m=\u001b[0m\u001b[0mnp\u001b[0m\u001b[0;34m.\u001b[0m\u001b[0muint8\u001b[0m\u001b[0;34m)\u001b[0m\u001b[0;34m\u001b[0m\u001b[0;34m\u001b[0m\u001b[0m\n\u001b[1;32m     36\u001b[0m         \u001b[0;32mfor\u001b[0m \u001b[0mrgb\u001b[0m\u001b[0;34m,\u001b[0m \u001b[0mclass_id\u001b[0m \u001b[0;32min\u001b[0m \u001b[0mCOLOR_MAP\u001b[0m\u001b[0;34m.\u001b[0m\u001b[0mitems\u001b[0m\u001b[0;34m(\u001b[0m\u001b[0;34m)\u001b[0m\u001b[0;34m:\u001b[0m\u001b[0;34m\u001b[0m\u001b[0;34m\u001b[0m\u001b[0m\n\u001b[0;32m---> 37\u001b[0;31m             \u001b[0mmask\u001b[0m\u001b[0;34m[\u001b[0m\u001b[0mnp\u001b[0m\u001b[0;34m.\u001b[0m\u001b[0mall\u001b[0m\u001b[0;34m(\u001b[0m\u001b[0mmask_rgb\u001b[0m \u001b[0;34m==\u001b[0m \u001b[0mrgb\u001b[0m\u001b[0;34m,\u001b[0m \u001b[0maxis\u001b[0m\u001b[0;34m=\u001b[0m\u001b[0;34m-\u001b[0m\u001b[0;36m1\u001b[0m\u001b[0;34m)\u001b[0m\u001b[0;34m]\u001b[0m \u001b[0;34m=\u001b[0m \u001b[0mclass_id\u001b[0m\u001b[0;34m\u001b[0m\u001b[0;34m\u001b[0m\u001b[0m\n\u001b[0m\u001b[1;32m     38\u001b[0m \u001b[0;34m\u001b[0m\u001b[0m\n\u001b[1;32m     39\u001b[0m         \u001b[0;32mif\u001b[0m \u001b[0mself\u001b[0m\u001b[0;34m.\u001b[0m\u001b[0maugmentation\u001b[0m\u001b[0;34m:\u001b[0m\u001b[0;34m\u001b[0m\u001b[0;34m\u001b[0m\u001b[0m\n",
            "\u001b[0;31mValueError\u001b[0m: NumPy boolean array indexing assignment cannot assign 3 input values to the 650782 output values where the mask is true"
          ]
        }
      ],
      "source": [
        "# ==========================\n",
        "# データセットの初期化（データ拡張なし）\n",
        "# ==========================\n",
        "dataset = MedicalDataset(x_train_dir, y_train_dir)\n",
        "\n",
        "# ==========================\n",
        "# 最初のサンプルを取得\n",
        "# ==========================\n",
        "image_tensor, mask_tensor = dataset[0]\n",
        "\n",
        "# ==========================\n",
        "# 情報表示\n",
        "# ==========================\n",
        "print(f\"Image shape: {image_tensor.shape}\")  # (3, H, W)\n",
        "print(f\"Mask shape: {mask_tensor.shape}\")    # (H, W)\n",
        "print(f\"Unique mask values: {torch.unique(mask_tensor)}\")\n",
        "\n",
        "# ==========================\n",
        "# 可視化（テンソル → NumPy）\n",
        "# ==========================\n",
        "image = image_tensor.numpy().transpose(1, 2, 0)  # (H, W, 3)\n",
        "mask = mask_tensor.numpy()                      # (H, W)\n",
        "\n",
        "visualize(image=image, mask=mask)\n",
        "\n",
        "\n",
        "# dataset = Dataset(x_train_dir, y_train_dir)\n",
        "# image, mask = dataset[0]\n",
        "# print(f\"Mask shape: {mask.shape}\")\n",
        "# visualize(image=image, mask=mask)"
      ]
    },
    {
      "cell_type": "markdown",
      "metadata": {
        "id": "gKpxAMIqwsHv"
      },
      "source": [
        "# Augmentations\n",
        "Data augmentation is a powerful technique to increase the amount of your data and prevent model overfitting.\n",
        "If you not familiar with such trick read some of these articles:\n",
        "\n",
        " - [The Effectiveness of Data Augmentation in Image Classification using Deep Learning](http://cs231n.stanford.edu/reports/2017/pdfs/300.pdf)\n",
        " - [Data Augmentation | How to use Deep Learning when you have Limited Data](https://medium.com/nanonets/how-to-use-deep-learning-when-you-have-limited-data-part-2-data-augmentation-c26971dc8ced)\n",
        " - [Data Augmentation Experimentation](https://towardsdatascience.com/data-augmentation-experimentation-3e274504f04b)\n",
        "\n",
        "Since our dataset is very small we will apply a large number of different augmentations:\n",
        "\n",
        " - horizontal flip\n",
        " - affine transforms\n",
        " - perspective transforms\n",
        " - brightness/contrast/colors manipulations\n",
        " - image bluring and sharpening\n",
        " - gaussian noise\n",
        " - random crops\n",
        "\n",
        "All this transforms can be easily applied with [**Albumentations**](https://github.com/albu/albumentations/) - fast augmentation library. For detailed explanation of image transformations you can look at [**kaggle salt segmentation exmaple**](https://github.com/albu/albumentations/blob/master/notebooks/example_kaggle_salt.ipynb) provided by [**Albumentations**](https://github.com/albu/albumentations/) authors."
      ]
    },
    {
      "cell_type": "code",
      "execution_count": null,
      "metadata": {
        "execution": {
          "iopub.execute_input": "2024-08-23T11:30:06.482545Z",
          "iopub.status.busy": "2024-08-23T11:30:06.482154Z",
          "iopub.status.idle": "2024-08-23T11:30:06.495170Z",
          "shell.execute_reply": "2024-08-23T11:30:06.494101Z",
          "shell.execute_reply.started": "2024-08-23T11:30:06.482503Z"
        },
        "trusted": true,
        "id": "XvdmqHT_wsHv"
      },
      "outputs": [],
      "source": [
        "# training set images augmentation\n",
        "def get_training_augmentation():\n",
        "    train_transform = [\n",
        "        A.HorizontalFlip(p=0.5),\n",
        "        A.ShiftScaleRotate(\n",
        "            scale_limit=0.5, rotate_limit=0, shift_limit=0.1, p=1, border_mode=0\n",
        "        ),\n",
        "        A.PadIfNeeded(min_height=320, min_width=320, always_apply=True),\n",
        "        A.RandomCrop(height=320, width=320, always_apply=True),\n",
        "        A.GaussNoise(p=0.2),\n",
        "        A.Perspective(p=0.5),\n",
        "        A.OneOf(\n",
        "            [\n",
        "                A.CLAHE(p=1),\n",
        "                A.RandomBrightnessContrast(p=1),\n",
        "                A.RandomGamma(p=1),\n",
        "            ],\n",
        "            p=0.9,\n",
        "        ),\n",
        "        A.OneOf(\n",
        "            [\n",
        "                A.Sharpen(p=1),\n",
        "                A.Blur(blur_limit=3, p=1),\n",
        "                A.MotionBlur(blur_limit=3, p=1),\n",
        "            ],\n",
        "            p=0.9,\n",
        "        ),\n",
        "        A.OneOf(\n",
        "            [\n",
        "                A.RandomBrightnessContrast(p=1),\n",
        "                A.HueSaturationValue(p=1),\n",
        "            ],\n",
        "            p=0.9,\n",
        "        ),\n",
        "    ]\n",
        "    return A.Compose(train_transform)\n",
        "\n",
        "\n",
        "def get_validation_augmentation():\n",
        "    \"\"\"Add paddings to make image shape divisible by 32\"\"\"\n",
        "    test_transform = [\n",
        "        A.PadIfNeeded(384, 480),\n",
        "    ]\n",
        "    return A.Compose(test_transform)"
      ]
    },
    {
      "cell_type": "code",
      "execution_count": null,
      "metadata": {
        "execution": {
          "iopub.execute_input": "2024-08-23T11:30:06.496921Z",
          "iopub.status.busy": "2024-08-23T11:30:06.496543Z",
          "iopub.status.idle": "2024-08-23T11:30:07.590478Z",
          "shell.execute_reply": "2024-08-23T11:30:07.589517Z",
          "shell.execute_reply.started": "2024-08-23T11:30:06.496879Z"
        },
        "trusted": true,
        "id": "vz3oDy6ZwsHv"
      },
      "outputs": [],
      "source": [
        "# Visualize resulted augmented images and masks\n",
        "augmented_dataset = Dataset(\n",
        "    x_train_dir,\n",
        "    y_train_dir,\n",
        "    augmentation=get_training_augmentation(),\n",
        ")\n",
        "\n",
        "# Visualizing the same image with different random transforms\n",
        "for i in range(3):\n",
        "    image, mask = augmented_dataset[3]\n",
        "    print(f\"Mask shape: {mask.shape}\")\n",
        "    print(np.unique(mask))\n",
        "    visualize(image=image, mask=mask)"
      ]
    },
    {
      "cell_type": "code",
      "execution_count": null,
      "metadata": {
        "execution": {
          "iopub.execute_input": "2024-08-23T11:30:07.592216Z",
          "iopub.status.busy": "2024-08-23T11:30:07.591752Z",
          "iopub.status.idle": "2024-08-23T11:30:07.606959Z",
          "shell.execute_reply": "2024-08-23T11:30:07.606000Z",
          "shell.execute_reply.started": "2024-08-23T11:30:07.592181Z"
        },
        "trusted": true,
        "id": "o3zz9h56wsHv"
      },
      "outputs": [],
      "source": [
        "train_dataset = Dataset(\n",
        "    x_train_dir,\n",
        "    y_train_dir,\n",
        "    augmentation=get_training_augmentation(),\n",
        ")\n",
        "\n",
        "valid_dataset = Dataset(\n",
        "    x_valid_dir,\n",
        "    y_valid_dir,\n",
        "    augmentation=get_validation_augmentation(),\n",
        ")\n",
        "\n",
        "test_dataset = Dataset(\n",
        "    x_test_dir,\n",
        "    y_test_dir,\n",
        "    augmentation=get_validation_augmentation(),\n",
        ")\n",
        "\n",
        "# Change to > 0 if not on Windows machine\n",
        "train_loader = DataLoader(train_dataset, batch_size=32, shuffle=True, num_workers=0)\n",
        "valid_loader = DataLoader(valid_dataset, batch_size=32, shuffle=False, num_workers=0)\n",
        "test_loader = DataLoader(test_dataset, batch_size=32, shuffle=False, num_workers=0)"
      ]
    },
    {
      "cell_type": "markdown",
      "metadata": {
        "id": "5s9wYfZtwsHv"
      },
      "source": [
        "# Create model and train"
      ]
    },
    {
      "cell_type": "code",
      "execution_count": null,
      "metadata": {
        "execution": {
          "iopub.execute_input": "2024-08-23T11:30:07.608742Z",
          "iopub.status.busy": "2024-08-23T11:30:07.608339Z",
          "iopub.status.idle": "2024-08-23T11:30:07.613493Z",
          "shell.execute_reply": "2024-08-23T11:30:07.612605Z",
          "shell.execute_reply.started": "2024-08-23T11:30:07.608680Z"
        },
        "trusted": true,
        "id": "F7SaPTBxwsHv"
      },
      "outputs": [],
      "source": [
        "# Some training hyperparameters\n",
        "EPOCHS = 50\n",
        "T_MAX = EPOCHS * len(train_loader)\n",
        "# Always include the background as a class\n",
        "OUT_CLASSES = len(train_dataset.CLASSES)"
      ]
    },
    {
      "cell_type": "code",
      "execution_count": null,
      "metadata": {
        "execution": {
          "iopub.execute_input": "2024-08-23T11:30:07.615277Z",
          "iopub.status.busy": "2024-08-23T11:30:07.614938Z",
          "iopub.status.idle": "2024-08-23T11:30:07.638455Z",
          "shell.execute_reply": "2024-08-23T11:30:07.637474Z",
          "shell.execute_reply.started": "2024-08-23T11:30:07.615245Z"
        },
        "trusted": true,
        "id": "sLI9GUkAwsHv"
      },
      "outputs": [],
      "source": [
        "import pytorch_lightning as pl\n",
        "import segmentation_models_pytorch as smp\n",
        "import torch\n",
        "from torch.optim import lr_scheduler\n",
        "\n",
        "\n",
        "class CamVidModel(pl.LightningModule):\n",
        "    def __init__(self, arch, encoder_name, in_channels, out_classes, **kwargs):\n",
        "        super().__init__()\n",
        "        self.model = smp.create_model(\n",
        "            arch,\n",
        "            encoder_name=encoder_name,\n",
        "            in_channels=in_channels,\n",
        "            classes=out_classes,\n",
        "            **kwargs,\n",
        "        )\n",
        "\n",
        "        # Preprocessing parameters for image normalization\n",
        "        params = smp.encoders.get_preprocessing_params(encoder_name)\n",
        "        self.number_of_classes = out_classes\n",
        "        self.register_buffer(\"std\", torch.tensor(params[\"std\"]).view(1, 3, 1, 1))\n",
        "        self.register_buffer(\"mean\", torch.tensor(params[\"mean\"]).view(1, 3, 1, 1))\n",
        "\n",
        "        # Loss function for multi-class segmentation\n",
        "        self.loss_fn = smp.losses.DiceLoss(smp.losses.MULTICLASS_MODE, from_logits=True)\n",
        "\n",
        "        # Step metrics tracking\n",
        "        self.training_step_outputs = []\n",
        "        self.validation_step_outputs = []\n",
        "        self.test_step_outputs = []\n",
        "\n",
        "    def forward(self, image):\n",
        "        # Normalize image\n",
        "        image = (image - self.mean) / self.std\n",
        "        mask = self.model(image)\n",
        "        return mask\n",
        "\n",
        "    def shared_step(self, batch, stage):\n",
        "        image, mask = batch\n",
        "\n",
        "        # Ensure that image dimensions are correct\n",
        "        assert image.ndim == 4  # [batch_size, channels, H, W]\n",
        "\n",
        "        # Ensure the mask is a long (index) tensor\n",
        "        mask = mask.long()\n",
        "\n",
        "        # Mask shape\n",
        "        assert mask.ndim == 3  # [batch_size, H, W]\n",
        "\n",
        "        # Predict mask logits\n",
        "        logits_mask = self.forward(image)\n",
        "\n",
        "        assert (\n",
        "            logits_mask.shape[1] == self.number_of_classes\n",
        "        )  # [batch_size, number_of_classes, H, W]\n",
        "\n",
        "        # Ensure the logits mask is contiguous\n",
        "        logits_mask = logits_mask.contiguous()\n",
        "\n",
        "        # Compute loss using multi-class Dice loss (pass original mask, not one-hot encoded)\n",
        "        loss = self.loss_fn(logits_mask, mask)\n",
        "\n",
        "        # Apply softmax to get probabilities for multi-class segmentation\n",
        "        prob_mask = logits_mask.softmax(dim=1)\n",
        "\n",
        "        # Convert probabilities to predicted class labels\n",
        "        pred_mask = prob_mask.argmax(dim=1)\n",
        "\n",
        "        # Compute true positives, false positives, false negatives, and true negatives\n",
        "        tp, fp, fn, tn = smp.metrics.get_stats(\n",
        "            pred_mask, mask, mode=\"multiclass\", num_classes=self.number_of_classes\n",
        "        )\n",
        "\n",
        "        return {\n",
        "            \"loss\": loss,\n",
        "            \"tp\": tp,\n",
        "            \"fp\": fp,\n",
        "            \"fn\": fn,\n",
        "            \"tn\": tn,\n",
        "        }\n",
        "\n",
        "    def shared_epoch_end(self, outputs, stage):\n",
        "        # Aggregate step metrics\n",
        "        tp = torch.cat([x[\"tp\"] for x in outputs])\n",
        "        fp = torch.cat([x[\"fp\"] for x in outputs])\n",
        "        fn = torch.cat([x[\"fn\"] for x in outputs])\n",
        "        tn = torch.cat([x[\"tn\"] for x in outputs])\n",
        "\n",
        "        # Per-image IoU and dataset IoU calculations\n",
        "        per_image_iou = smp.metrics.iou_score(\n",
        "            tp, fp, fn, tn, reduction=\"micro-imagewise\"\n",
        "        )\n",
        "        dataset_iou = smp.metrics.iou_score(tp, fp, fn, tn, reduction=\"micro\")\n",
        "\n",
        "        metrics = {\n",
        "            f\"{stage}_per_image_iou\": per_image_iou,\n",
        "            f\"{stage}_dataset_iou\": dataset_iou,\n",
        "        }\n",
        "\n",
        "        self.log_dict(metrics, prog_bar=True)\n",
        "\n",
        "    def training_step(self, batch, batch_idx):\n",
        "        train_loss_info = self.shared_step(batch, \"train\")\n",
        "        self.training_step_outputs.append(train_loss_info)\n",
        "        return train_loss_info\n",
        "\n",
        "    def on_train_epoch_end(self):\n",
        "        self.shared_epoch_end(self.training_step_outputs, \"train\")\n",
        "        self.training_step_outputs.clear()\n",
        "\n",
        "    def validation_step(self, batch, batch_idx):\n",
        "        valid_loss_info = self.shared_step(batch, \"valid\")\n",
        "        self.validation_step_outputs.append(valid_loss_info)\n",
        "        return valid_loss_info\n",
        "\n",
        "    def on_validation_epoch_end(self):\n",
        "        self.shared_epoch_end(self.validation_step_outputs, \"valid\")\n",
        "        self.validation_step_outputs.clear()\n",
        "\n",
        "    def test_step(self, batch, batch_idx):\n",
        "        test_loss_info = self.shared_step(batch, \"test\")\n",
        "        self.test_step_outputs.append(test_loss_info)\n",
        "        return test_loss_info\n",
        "\n",
        "    def on_test_epoch_end(self):\n",
        "        self.shared_epoch_end(self.test_step_outputs, \"test\")\n",
        "        self.test_step_outputs.clear()\n",
        "\n",
        "    def configure_optimizers(self):\n",
        "        optimizer = torch.optim.Adam(self.parameters(), lr=2e-4)\n",
        "        scheduler = lr_scheduler.CosineAnnealingLR(optimizer, T_max=50, eta_min=1e-5)\n",
        "        return {\n",
        "            \"optimizer\": optimizer,\n",
        "            \"lr_scheduler\": {\n",
        "                \"scheduler\": scheduler,\n",
        "                \"interval\": \"step\",\n",
        "                \"frequency\": 1,\n",
        "            },\n",
        "        }"
      ]
    },
    {
      "cell_type": "code",
      "execution_count": null,
      "metadata": {
        "execution": {
          "iopub.execute_input": "2024-08-23T11:30:07.642407Z",
          "iopub.status.busy": "2024-08-23T11:30:07.642034Z",
          "iopub.status.idle": "2024-08-23T11:30:09.551807Z",
          "shell.execute_reply": "2024-08-23T11:30:09.550754Z",
          "shell.execute_reply.started": "2024-08-23T11:30:07.642359Z"
        },
        "trusted": true,
        "id": "2JPVvscVwsHv"
      },
      "outputs": [],
      "source": [
        "model = CamVidModel(\"FPN\", \"resnext50_32x4d\", in_channels=3, out_classes=OUT_CLASSES)"
      ]
    },
    {
      "cell_type": "markdown",
      "metadata": {
        "id": "kY8Vvy5uwsHv"
      },
      "source": [
        "# Training"
      ]
    },
    {
      "cell_type": "code",
      "execution_count": null,
      "metadata": {
        "execution": {
          "iopub.execute_input": "2024-08-23T11:30:09.553779Z",
          "iopub.status.busy": "2024-08-23T11:30:09.553376Z",
          "iopub.status.idle": "2024-08-23T11:34:35.862427Z",
          "shell.execute_reply": "2024-08-23T11:34:35.861229Z",
          "shell.execute_reply.started": "2024-08-23T11:30:09.553732Z"
        },
        "trusted": true,
        "id": "tXCIjROEwsHv"
      },
      "outputs": [],
      "source": [
        "trainer = pl.Trainer(max_epochs=EPOCHS, log_every_n_steps=1)\n",
        "\n",
        "trainer.fit(\n",
        "    model,\n",
        "    train_dataloaders=train_loader,\n",
        "    val_dataloaders=valid_loader,\n",
        ")"
      ]
    },
    {
      "cell_type": "markdown",
      "metadata": {
        "id": "_Mh7ZDgPwsHw"
      },
      "source": [
        "# Validation and test metrics"
      ]
    },
    {
      "cell_type": "code",
      "execution_count": null,
      "metadata": {
        "execution": {
          "iopub.execute_input": "2024-08-23T11:34:35.864340Z",
          "iopub.status.busy": "2024-08-23T11:34:35.864021Z",
          "iopub.status.idle": "2024-08-23T11:34:37.899992Z",
          "shell.execute_reply": "2024-08-23T11:34:37.898994Z",
          "shell.execute_reply.started": "2024-08-23T11:34:35.864305Z"
        },
        "trusted": true,
        "id": "FWPF45NowsHw"
      },
      "outputs": [],
      "source": [
        "# run validation dataset\n",
        "valid_metrics = trainer.validate(model, dataloaders=valid_loader, verbose=False)\n",
        "print(valid_metrics)"
      ]
    },
    {
      "cell_type": "code",
      "execution_count": null,
      "metadata": {
        "execution": {
          "iopub.execute_input": "2024-08-23T11:34:37.901909Z",
          "iopub.status.busy": "2024-08-23T11:34:37.901489Z",
          "iopub.status.idle": "2024-08-23T11:34:41.364904Z",
          "shell.execute_reply": "2024-08-23T11:34:41.363771Z",
          "shell.execute_reply.started": "2024-08-23T11:34:37.901870Z"
        },
        "trusted": true,
        "id": "Cy27NiNrwsHw"
      },
      "outputs": [],
      "source": [
        "# run test dataset\n",
        "test_metrics = trainer.test(model, dataloaders=test_loader, verbose=False)\n",
        "print(test_metrics)"
      ]
    },
    {
      "cell_type": "markdown",
      "metadata": {
        "id": "9WOXctyVwsHw"
      },
      "source": [
        "# Result visualization"
      ]
    },
    {
      "cell_type": "code",
      "execution_count": null,
      "metadata": {
        "execution": {
          "iopub.execute_input": "2024-08-23T11:34:41.366777Z",
          "iopub.status.busy": "2024-08-23T11:34:41.366427Z",
          "iopub.status.idle": "2024-08-23T11:35:08.321664Z",
          "shell.execute_reply": "2024-08-23T11:35:08.320487Z",
          "shell.execute_reply.started": "2024-08-23T11:34:41.366741Z"
        },
        "trusted": true,
        "id": "ueRI6vvqwsHw"
      },
      "outputs": [],
      "source": [
        "import numpy as np\n",
        "\n",
        "# Fetch a batch from the test loader\n",
        "images, masks = next(iter(test_loader))\n",
        "\n",
        "# Switch the model to evaluation mode\n",
        "with torch.no_grad():\n",
        "    model.eval()\n",
        "    logits = model(images)  # Get raw logits from the model\n",
        "\n",
        "# Apply softmax to get class probabilities\n",
        "# Shape: [batch_size, num_classes, H, W]\n",
        "\n",
        "pr_masks = logits.softmax(dim=1)\n",
        "# Convert class probabilities to predicted class labels\n",
        "pr_masks = pr_masks.argmax(dim=1)  # Shape: [batch_size, H, W]\n",
        "\n",
        "# Visualize a few samples (image, ground truth mask, and predicted mask)\n",
        "for idx, (image, gt_mask, pr_mask) in enumerate(zip(images, masks, pr_masks)):\n",
        "    if idx <= 4:  # Visualize first 5 samples\n",
        "        plt.figure(figsize=(12, 6))\n",
        "\n",
        "        # Original Image\n",
        "        plt.subplot(1, 3, 1)\n",
        "        plt.imshow(\n",
        "            image.cpu().numpy().transpose(1, 2, 0)\n",
        "        )  # Convert CHW to HWC for plotting\n",
        "        plt.title(\"Image\")\n",
        "        plt.axis(\"off\")\n",
        "\n",
        "        # Ground Truth Mask\n",
        "        plt.subplot(1, 3, 2)\n",
        "        plt.imshow(gt_mask.cpu().numpy(), cmap=\"tab20\")  # Visualize ground truth mask\n",
        "        plt.title(\"Ground truth\")\n",
        "        plt.axis(\"off\")\n",
        "\n",
        "        # Predicted Mask\n",
        "        plt.subplot(1, 3, 3)\n",
        "        plt.imshow(pr_mask.cpu().numpy(), cmap=\"tab20\")  # Visualize predicted mask\n",
        "        plt.title(\"Prediction\")\n",
        "        plt.axis(\"off\")\n",
        "\n",
        "        # Show the figure\n",
        "        plt.show()\n",
        "    else:\n",
        "        break"
      ]
    }
  ],
  "metadata": {
    "kaggle": {
      "accelerator": "gpu",
      "dataSources": [],
      "dockerImageVersionId": 30762,
      "isGpuEnabled": true,
      "isInternetEnabled": true,
      "language": "python",
      "sourceType": "notebook"
    },
    "kernelspec": {
      "display_name": "Python 3",
      "language": "python",
      "name": "python3"
    },
    "language_info": {
      "codemirror_mode": {
        "name": "ipython",
        "version": 3
      },
      "file_extension": ".py",
      "mimetype": "text/x-python",
      "name": "python",
      "nbconvert_exporter": "python",
      "pygments_lexer": "ipython3",
      "version": "3.10.8"
    },
    "colab": {
      "provenance": []
    }
  },
  "nbformat": 4,
  "nbformat_minor": 0
}